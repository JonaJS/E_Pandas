{
  "nbformat": 4,
  "nbformat_minor": 0,
  "metadata": {
    "colab": {
      "provenance": [],
      "authorship_tag": "ABX9TyMs+EfrtUD4SoELHOAa3Kwy",
      "include_colab_link": true
    },
    "kernelspec": {
      "name": "python3",
      "display_name": "Python 3"
    },
    "language_info": {
      "name": "python"
    }
  },
  "cells": [
    {
      "cell_type": "markdown",
      "metadata": {
        "id": "view-in-github",
        "colab_type": "text"
      },
      "source": [
        "<a href=\"https://colab.research.google.com/github/JonaJS/E_Pandas/blob/main/Chptr6_Operators%2B(%26%2BDunder%2BMethods).ipynb\" target=\"_parent\"><img src=\"https://colab.research.google.com/assets/colab-badge.svg\" alt=\"Open In Colab\"/></a>"
      ]
    },
    {
      "cell_type": "code",
      "source": [
        "import pandas as pd\n",
        "URL = 'https://github.com/mattharrison/datasets/raw/master/data/vehicles.csv.zip'"
      ],
      "metadata": {
        "id": "0GaDAmb045Qx"
      },
      "execution_count": 1,
      "outputs": []
    },
    {
      "cell_type": "code",
      "source": [
        "df = pd.read_csv(URL)\n",
        "city_mpg = df.city08\n",
        "highway_mpg = df.highway08"
      ],
      "metadata": {
        "colab": {
          "base_uri": "https://localhost:8080/"
        },
        "id": "G9G3hfWH484s",
        "outputId": "e2c2554b-b1ca-4b60-a495-95fdc9fc89d5"
      },
      "execution_count": 2,
      "outputs": [
        {
          "output_type": "stream",
          "name": "stderr",
          "text": [
            "<ipython-input-2-6a86cdfc355d>:1: DtypeWarning: Columns (68,70,71,72,73,74,76,79) have mixed types. Specify dtype option on import or set low_memory=False.\n",
            "  df = pd.read_csv(URL)\n"
          ]
        }
      ]
    },
    {
      "cell_type": "markdown",
      "source": [
        "### Duner Methods\n",
        "\n",
        "Pure Python example:"
      ],
      "metadata": {
        "id": "d01B2GJrIxf1"
      }
    },
    {
      "cell_type": "code",
      "execution_count": 3,
      "metadata": {
        "id": "xLPjrHkIIft_",
        "colab": {
          "base_uri": "https://localhost:8080/"
        },
        "outputId": "e12952cb-55fd-4323-99ce-47ef304abcec"
      },
      "outputs": [
        {
          "output_type": "execute_result",
          "data": {
            "text/plain": [
              "6"
            ]
          },
          "metadata": {},
          "execution_count": 3
        }
      ],
      "source": [
        "2 + 4"
      ]
    },
    {
      "cell_type": "markdown",
      "source": [
        "Under the hood Python runs this:"
      ],
      "metadata": {
        "id": "ucIAu67f30AL"
      }
    },
    {
      "cell_type": "code",
      "source": [
        "(2).__add__(4)"
      ],
      "metadata": {
        "colab": {
          "base_uri": "https://localhost:8080/"
        },
        "id": "DaWgfud832xX",
        "outputId": "5c98063b-02e7-4288-df46-89e7689a689d"
      },
      "execution_count": 4,
      "outputs": [
        {
          "output_type": "execute_result",
          "data": {
            "text/plain": [
              "6"
            ]
          },
          "metadata": {},
          "execution_count": 4
        }
      ]
    },
    {
      "cell_type": "markdown",
      "source": [
        "A Python integer object that has a `.__add__` method responds to the `+ ` operation. Because a `Series` object has this method, you can call `+` on it. These is also a `.__div__` method that supports division. One way to calculate the average of the two series is the following:"
      ],
      "metadata": {
        "id": "gkkK8d0n4Rva"
      }
    },
    {
      "cell_type": "code",
      "source": [
        "(city_mpg + highway_mpg)/2"
      ],
      "metadata": {
        "colab": {
          "base_uri": "https://localhost:8080/"
        },
        "id": "cMHFh3wA40JY",
        "outputId": "56684885-4b78-44b2-dffc-e57afe8aa960"
      },
      "execution_count": 5,
      "outputs": [
        {
          "output_type": "execute_result",
          "data": {
            "text/plain": [
              "0        22.0\n",
              "1        11.5\n",
              "2        28.0\n",
              "3        11.0\n",
              "4        20.0\n",
              "         ... \n",
              "41139    22.5\n",
              "41140    24.0\n",
              "41141    21.0\n",
              "41142    21.0\n",
              "41143    18.5\n",
              "Length: 41144, dtype: float64"
            ]
          },
          "metadata": {},
          "execution_count": 5
        }
      ]
    },
    {
      "cell_type": "markdown",
      "source": [
        "### Index Alignment\n",
        "\n",
        "Of note, you can apply most math operations on a series with another series, and you can also use a scalar (as we did with the division). When you operate with two series, pandas will *align* the index before performing the operation.\n",
        "Aligning will take each index entry in the left series and match it up with every entry with the same name in the index of the right series. In the above case, values with the same index name are added together and then divided by 2. These operations returns a `Series` object.\n",
        "\n",
        "Because of index alignment, you will want to make sure that the indexes:\n",
        "\n",
        "\n",
        "*   Are unique (no duplicates).\n",
        "*   Are common to both series.\n",
        "\n",
        "If this condition do not exist you will get missing values or a combinatoric explosion of results.\n"
      ],
      "metadata": {
        "id": "nnoMTiTj4zt0"
      }
    },
    {
      "cell_type": "code",
      "source": [
        "s1 = pd.Series([10, 20, 30], index=[1, 2, 2])\n",
        "s2 = pd.Series([35, 44, 53], index=[2, 2, 4], name='s2')"
      ],
      "metadata": {
        "id": "DV6t0tWl5Ycb"
      },
      "execution_count": 6,
      "outputs": []
    },
    {
      "cell_type": "code",
      "source": [
        "s1"
      ],
      "metadata": {
        "colab": {
          "base_uri": "https://localhost:8080/"
        },
        "id": "O47JijVRlhdB",
        "outputId": "f9a34e57-a0bd-412f-b8af-2a82757b4f37"
      },
      "execution_count": 7,
      "outputs": [
        {
          "output_type": "execute_result",
          "data": {
            "text/plain": [
              "1    10\n",
              "2    20\n",
              "2    30\n",
              "dtype: int64"
            ]
          },
          "metadata": {},
          "execution_count": 7
        }
      ]
    },
    {
      "cell_type": "code",
      "source": [
        "s2"
      ],
      "metadata": {
        "colab": {
          "base_uri": "https://localhost:8080/"
        },
        "id": "UixRble_llJ5",
        "outputId": "7b7ffc2b-8cae-41c9-8177-90c7edca7147"
      },
      "execution_count": 8,
      "outputs": [
        {
          "output_type": "execute_result",
          "data": {
            "text/plain": [
              "2    35\n",
              "2    44\n",
              "4    53\n",
              "Name: s2, dtype: int64"
            ]
          },
          "metadata": {},
          "execution_count": 8
        }
      ]
    },
    {
      "cell_type": "code",
      "source": [
        "s1 +s2"
      ],
      "metadata": {
        "colab": {
          "base_uri": "https://localhost:8080/"
        },
        "id": "kp7FPqFTlpAl",
        "outputId": "6cb9bb13-34c2-4fe5-de3f-78805aecaf0c"
      },
      "execution_count": 9,
      "outputs": [
        {
          "output_type": "execute_result",
          "data": {
            "text/plain": [
              "1     NaN\n",
              "2    55.0\n",
              "2    64.0\n",
              "2    65.0\n",
              "2    74.0\n",
              "4     NaN\n",
              "dtype: float64"
            ]
          },
          "metadata": {},
          "execution_count": 9
        }
      ]
    },
    {
      "cell_type": "markdown",
      "source": [
        "Note that index names 1 and 4 have `NaN` while index name 2 has four results - every 2 from s1 is matched up with every 2 from s2."
      ],
      "metadata": {
        "id": "4IPl7q3yl2_L"
      }
    },
    {
      "cell_type": "markdown",
      "source": [
        "### Broadcasting.\n",
        "\n",
        "When you perform math operations with a scalar, pandas `broadcasts` the operation to all values. In the above case, the values are added together."
      ],
      "metadata": {
        "id": "93m_ZG5DmIq_"
      }
    },
    {
      "cell_type": "code",
      "source": [
        "s1"
      ],
      "metadata": {
        "colab": {
          "base_uri": "https://localhost:8080/"
        },
        "id": "Eg1J_gNml2oa",
        "outputId": "9cb7bb2b-2ad4-4bd5-8878-96dbf496a10d"
      },
      "execution_count": 10,
      "outputs": [
        {
          "output_type": "execute_result",
          "data": {
            "text/plain": [
              "1    10\n",
              "2    20\n",
              "2    30\n",
              "dtype: int64"
            ]
          },
          "metadata": {},
          "execution_count": 10
        }
      ]
    },
    {
      "cell_type": "code",
      "source": [
        "s2"
      ],
      "metadata": {
        "colab": {
          "base_uri": "https://localhost:8080/"
        },
        "id": "L3RgKyPjnJu3",
        "outputId": "06bf15ae-72db-40e5-8171-46d75f6d3f3e"
      },
      "execution_count": 11,
      "outputs": [
        {
          "output_type": "execute_result",
          "data": {
            "text/plain": [
              "2    35\n",
              "2    44\n",
              "4    53\n",
              "Name: s2, dtype: int64"
            ]
          },
          "metadata": {},
          "execution_count": 11
        }
      ]
    },
    {
      "cell_type": "code",
      "source": [
        "(s1).add(s2, fill_value=0)"
      ],
      "metadata": {
        "colab": {
          "base_uri": "https://localhost:8080/"
        },
        "id": "f17JNYn9nLXy",
        "outputId": "8c006de7-fa13-439b-82c0-efd63caa2767"
      },
      "execution_count": 12,
      "outputs": [
        {
          "output_type": "execute_result",
          "data": {
            "text/plain": [
              "1    10.0\n",
              "2    55.0\n",
              "2    64.0\n",
              "2    65.0\n",
              "2    74.0\n",
              "4    53.0\n",
              "dtype: float64"
            ]
          },
          "metadata": {},
          "execution_count": 12
        }
      ]
    },
    {
      "cell_type": "markdown",
      "source": [
        "There is another advantage to broadcasting. With many math operations, these are optimized and happen very quickly in the CPU. This is called `vectorization`. (A numeric pandas series is a block of memory, and modern CPUs leverage a technology called Single Instruction/Multiple Data (SIMD) to apply a math operation to the block of memory.)\n",
        "\n",
        "Operations that are available include: `+, -, /, // (floor division), % (modulus), @ (matrix multiplication), ** (power), <, <=, ==, !=, >=, >, & (binary and), ^ (binary xor), | (binary or).`\n",
        "\n",
        "\n",
        "### Iterations\n",
        "Basically do not use for loop to iterate through a series. There is a `.__iter__` method by the way."
      ],
      "metadata": {
        "id": "0u9cVSCNnXgM"
      }
    },
    {
      "cell_type": "markdown",
      "source": [
        "### Operators Method.\n",
        "\n",
        "Why pandas does provide methods for the standard operators (like + and .add)?\n",
        "\n",
        "**R=** In general, functions and methods have parameters to allow you to `parameterize` or change the behavior based on the parameters. The dunder methods generally fill in `NaN` (or `< NA >` for Int64) when one of the operands is missing following index alignment."
      ],
      "metadata": {
        "id": "3aiqjodMpXFI"
      }
    },
    {
      "cell_type": "code",
      "source": [
        "s1 + s2"
      ],
      "metadata": {
        "colab": {
          "base_uri": "https://localhost:8080/"
        },
        "id": "I192kFDoqhVz",
        "outputId": "d7cb6144-25af-498d-fc36-cd0a68e889e1"
      },
      "execution_count": 13,
      "outputs": [
        {
          "output_type": "execute_result",
          "data": {
            "text/plain": [
              "1     NaN\n",
              "2    55.0\n",
              "2    64.0\n",
              "2    65.0\n",
              "2    74.0\n",
              "4     NaN\n",
              "dtype: float64"
            ]
          },
          "metadata": {},
          "execution_count": 13
        }
      ]
    },
    {
      "cell_type": "code",
      "source": [
        "(s1).add(s2)"
      ],
      "metadata": {
        "colab": {
          "base_uri": "https://localhost:8080/"
        },
        "id": "n4coJzUyqkBX",
        "outputId": "402d12f5-6514-4174-ec7d-494f53ffca62"
      },
      "execution_count": 14,
      "outputs": [
        {
          "output_type": "execute_result",
          "data": {
            "text/plain": [
              "1     NaN\n",
              "2    55.0\n",
              "2    64.0\n",
              "2    65.0\n",
              "2    74.0\n",
              "4     NaN\n",
              "dtype: float64"
            ]
          },
          "metadata": {},
          "execution_count": 14
        }
      ]
    },
    {
      "cell_type": "code",
      "source": [
        "(s1).add(s2, fill_value=0)"
      ],
      "metadata": {
        "colab": {
          "base_uri": "https://localhost:8080/"
        },
        "id": "0ILEG0CUqmxP",
        "outputId": "d53f703f-2411-4640-a230-bcfaa2a7c8b9"
      },
      "execution_count": 15,
      "outputs": [
        {
          "output_type": "execute_result",
          "data": {
            "text/plain": [
              "1    10.0\n",
              "2    55.0\n",
              "2    64.0\n",
              "2    65.0\n",
              "2    74.0\n",
              "4    53.0\n",
              "dtype: float64"
            ]
          },
          "metadata": {},
          "execution_count": 15
        }
      ]
    },
    {
      "cell_type": "markdown",
      "source": [
        "In this last example we used the `fill_value=0` to indicates that when an index name on s1 doesn't match up with an index name on s2, use a 0 instead."
      ],
      "metadata": {
        "id": "a7t-GO-FqsJm"
      }
    },
    {
      "cell_type": "markdown",
      "source": [
        "### Chaining.\n",
        "\n",
        "Another stylistic reason to prefer the method to the operator is that it makes `chaining` manipulation easy. Because most pandas methods do not mutate data in place but instead return a new object, we can keep tacking on method calls to the returned object.\n",
        "\n",
        "Chaining makes the code easy to read and understand. We can chain with operators as well, but it requires that we wrap the operation with parentheses."
      ],
      "metadata": {
        "id": "OA_UCr_frGaS"
      }
    },
    {
      "cell_type": "code",
      "source": [
        "# Operators\n",
        "((city_mpg +\n",
        "  highway_mpg)\n",
        "/2\n",
        ")"
      ],
      "metadata": {
        "colab": {
          "base_uri": "https://localhost:8080/"
        },
        "id": "tnwD5lY7wKLE",
        "outputId": "56c6dbca-457e-4a0a-dc31-4edfde9ab9bb"
      },
      "execution_count": 16,
      "outputs": [
        {
          "output_type": "execute_result",
          "data": {
            "text/plain": [
              "0        22.0\n",
              "1        11.5\n",
              "2        28.0\n",
              "3        11.0\n",
              "4        20.0\n",
              "         ... \n",
              "41139    22.5\n",
              "41140    24.0\n",
              "41141    21.0\n",
              "41142    21.0\n",
              "41143    18.5\n",
              "Length: 41144, dtype: float64"
            ]
          },
          "metadata": {},
          "execution_count": 16
        }
      ]
    },
    {
      "cell_type": "code",
      "source": [
        "# Methods\n",
        "(city_mpg\n",
        " .add(highway_mpg)\n",
        " .div(2)\n",
        ")\n",
        "\n",
        "# We can read this as \"we are taking the city_mpg series, then we are adding the highway series to it. Finally, we are dividing by two.\""
      ],
      "metadata": {
        "colab": {
          "base_uri": "https://localhost:8080/"
        },
        "id": "Y6mM-Ad_wMEg",
        "outputId": "540bd50d-a700-45e1-c400-676560139a56"
      },
      "execution_count": 17,
      "outputs": [
        {
          "output_type": "execute_result",
          "data": {
            "text/plain": [
              "0        22.0\n",
              "1        11.5\n",
              "2        28.0\n",
              "3        11.0\n",
              "4        20.0\n",
              "         ... \n",
              "41139    22.5\n",
              "41140    24.0\n",
              "41141    21.0\n",
              "41142    21.0\n",
              "41143    18.5\n",
              "Length: 41144, dtype: float64"
            ]
          },
          "metadata": {},
          "execution_count": 17
        }
      ]
    },
    {
      "cell_type": "markdown",
      "source": [
        "Methods on page 41/42."
      ],
      "metadata": {
        "id": "R8wuSNhIwrF-"
      }
    },
    {
      "cell_type": "code",
      "source": [],
      "metadata": {
        "id": "Ak_vewJcwxzK"
      },
      "execution_count": 17,
      "outputs": []
    }
  ]
}