{
  "nbformat": 4,
  "nbformat_minor": 0,
  "metadata": {
    "colab": {
      "provenance": [],
      "authorship_tag": "ABX9TyM+pU3E8Kqr9jLReCKcJORR",
      "include_colab_link": true
    },
    "kernelspec": {
      "name": "python3",
      "display_name": "Python 3"
    },
    "language_info": {
      "name": "python"
    }
  },
  "cells": [
    {
      "cell_type": "markdown",
      "metadata": {
        "id": "view-in-github",
        "colab_type": "text"
      },
      "source": [
        "<a href=\"https://colab.research.google.com/github/JonaJS/E_Pandas/blob/main/Chptr7_Aggregate_Methods.ipynb\" target=\"_parent\"><img src=\"https://colab.research.google.com/assets/colab-badge.svg\" alt=\"Open In Colab\"/></a>"
      ]
    },
    {
      "cell_type": "markdown",
      "source": [
        "Aggregate methods collapse the values of a series down to a scalar. Let's say we work at a restaurant, our boss will want to know:\n",
        "\n",
        "-   How many people came in (count)\n",
        "-   How much food was ordered (count)\n",
        "-   What was the total revenue (sum)\n",
        "-   When did people come (skew)\n",
        "-   What was the average purchase amount (mean).\n",
        "\n",
        "Aggregations allow you to take detailed data and collapse it to a single value.\n",
        "\n",
        "\n",
        "### Aggregations."
      ],
      "metadata": {
        "id": "y11c1v7Cm6Ui"
      }
    },
    {
      "cell_type": "code",
      "execution_count": null,
      "metadata": {
        "id": "rbGkD40IQ1IY"
      },
      "outputs": [],
      "source": [
        "import pandas as pd\n",
        "URL = 'https://github.com/mattharrison/datasets/raw/master/data/vehicles.csv.zip'"
      ]
    },
    {
      "cell_type": "code",
      "source": [
        "df = pd.read_csv(URL)\n",
        "city_mpg = df.city08\n",
        "highway_mpg = df.highway08"
      ],
      "metadata": {
        "colab": {
          "base_uri": "https://localhost:8080/"
        },
        "id": "9EFKTnqlDe6q",
        "outputId": "9951caf7-5b7c-4f83-caff-4e21e6088de1"
      },
      "execution_count": null,
      "outputs": [
        {
          "output_type": "stream",
          "name": "stderr",
          "text": [
            "<ipython-input-2-6a86cdfc355d>:1: DtypeWarning: Columns (68,70,71,72,73,74,76,79) have mixed types. Specify dtype option on import or set low_memory=False.\n",
            "  df = pd.read_csv(URL)\n"
          ]
        }
      ]
    },
    {
      "cell_type": "markdown",
      "source": [
        "Calculate the *mean* value of a series, que can use the aggregation method, `.mean`:"
      ],
      "metadata": {
        "id": "Ctv00VTvDsGQ"
      }
    },
    {
      "cell_type": "code",
      "source": [
        "city_mpg.mean()"
      ],
      "metadata": {
        "colab": {
          "base_uri": "https://localhost:8080/"
        },
        "id": "8yoTLbHjD5gs",
        "outputId": "ca19f25d-c13a-40a3-de6b-9e2e13494ce7"
      },
      "execution_count": null,
      "outputs": [
        {
          "output_type": "execute_result",
          "data": {
            "text/plain": [
              "18.369045304297103"
            ]
          },
          "metadata": {},
          "execution_count": 3
        }
      ]
    },
    {
      "cell_type": "markdown",
      "source": [
        "The are also a few aggregations properties\"\n",
        "- These start with `.is_`\n",
        "- They are not called, they will evaluate to `True` or `False`"
      ],
      "metadata": {
        "id": "n1HotqXTFP9n"
      }
    },
    {
      "cell_type": "code",
      "source": [
        "# Series.is_unique\n",
        "# Return boolean if values in the object are unique.\n",
        "\n",
        "city_mpg.is_unique"
      ],
      "metadata": {
        "colab": {
          "base_uri": "https://localhost:8080/"
        },
        "id": "KAWvWFMQFjuY",
        "outputId": "10b11f08-d7e0-4cc9-f1ac-9faf37b98d73"
      },
      "execution_count": null,
      "outputs": [
        {
          "output_type": "execute_result",
          "data": {
            "text/plain": [
              "False"
            ]
          },
          "metadata": {},
          "execution_count": 4
        }
      ]
    },
    {
      "cell_type": "code",
      "source": [
        "# Series.is_monotonic_increasing\n",
        "# Return boolean if values in the object are monotonically increasing.\n",
        "\n",
        "city_mpg.is_monotonic_increasing"
      ],
      "metadata": {
        "colab": {
          "base_uri": "https://localhost:8080/"
        },
        "id": "kGxvy5MjF7qr",
        "outputId": "1e8bc761-97c5-4546-a894-7a3c4e035358"
      },
      "execution_count": null,
      "outputs": [
        {
          "output_type": "execute_result",
          "data": {
            "text/plain": [
              "False"
            ]
          },
          "metadata": {},
          "execution_count": 5
        }
      ]
    },
    {
      "cell_type": "markdown",
      "source": [
        "One method to be aware is the `.quantile` method. By default it returns the 50% quantile. You can specify another level, or you can pass in a list of levels. In the latter case, the result of calling `.quantile` no longer returns a scalar but a *Series* object."
      ],
      "metadata": {
        "id": "0NfAAApPIPPO"
      }
    },
    {
      "cell_type": "code",
      "source": [
        "city_mpg.quantile()"
      ],
      "metadata": {
        "colab": {
          "base_uri": "https://localhost:8080/"
        },
        "id": "3SccYDLIIw9D",
        "outputId": "2e56b49a-0a53-44bf-8b05-169ea7e7aa3a"
      },
      "execution_count": null,
      "outputs": [
        {
          "output_type": "execute_result",
          "data": {
            "text/plain": [
              "17.0"
            ]
          },
          "metadata": {},
          "execution_count": 6
        }
      ]
    },
    {
      "cell_type": "code",
      "source": [
        "city_mpg.quantile(.5)"
      ],
      "metadata": {
        "colab": {
          "base_uri": "https://localhost:8080/"
        },
        "id": "wkugGZO7Jz1U",
        "outputId": "7caf59db-9692-4f7e-efd8-b48bc1794a91"
      },
      "execution_count": null,
      "outputs": [
        {
          "output_type": "execute_result",
          "data": {
            "text/plain": [
              "17.0"
            ]
          },
          "metadata": {},
          "execution_count": 7
        }
      ]
    },
    {
      "cell_type": "code",
      "source": [
        "city_mpg.quantile(.9)"
      ],
      "metadata": {
        "colab": {
          "base_uri": "https://localhost:8080/"
        },
        "id": "Hr0jGP0iJ3k0",
        "outputId": "3724b905-ce90-4333-92b1-6871b1661ca9"
      },
      "execution_count": null,
      "outputs": [
        {
          "output_type": "execute_result",
          "data": {
            "text/plain": [
              "24.0"
            ]
          },
          "metadata": {},
          "execution_count": 8
        }
      ]
    },
    {
      "cell_type": "code",
      "source": [
        "city_mpg.quantile([.1, .5, .9])"
      ],
      "metadata": {
        "colab": {
          "base_uri": "https://localhost:8080/"
        },
        "id": "s9lo_V1gJ74c",
        "outputId": "53c95c89-54d4-41ee-cb96-fa812e0b743b"
      },
      "execution_count": null,
      "outputs": [
        {
          "output_type": "execute_result",
          "data": {
            "text/plain": [
              "0.1    13.0\n",
              "0.5    17.0\n",
              "0.9    24.0\n",
              "Name: city08, dtype: float64"
            ]
          },
          "metadata": {},
          "execution_count": 9
        }
      ]
    },
    {
      "cell_type": "markdown",
      "source": [
        "### Count and Mean of an attribute\n",
        "\n",
        "If you want the count of values that meet some criteria, we can use the `.sum` method. For example, if we want the count and percent of cars with mileage greater than 20, we can use the following code."
      ],
      "metadata": {
        "id": "Z6EQvzIoKc5m"
      }
    },
    {
      "cell_type": "code",
      "source": [
        "# count\n",
        "(city_mpg\n",
        " .gt(20)\n",
        " .sum()\n",
        ")"
      ],
      "metadata": {
        "colab": {
          "base_uri": "https://localhost:8080/"
        },
        "id": "B3dJE6GzLPJR",
        "outputId": "d11f9ae2-c375-4ce8-b9de-662132ce682c"
      },
      "execution_count": null,
      "outputs": [
        {
          "output_type": "execute_result",
          "data": {
            "text/plain": [
              "10272"
            ]
          },
          "metadata": {},
          "execution_count": 10
        }
      ]
    },
    {
      "cell_type": "code",
      "source": [
        "# percent\n",
        "(city_mpg\n",
        " .gt(20)\n",
        " .mul(100)\n",
        " .mean()\n",
        ")"
      ],
      "metadata": {
        "colab": {
          "base_uri": "https://localhost:8080/"
        },
        "id": "fZqPmg3eOAqS",
        "outputId": "443df297-9517-4c3b-f571-59108e54caa6"
      },
      "execution_count": null,
      "outputs": [
        {
          "output_type": "execute_result",
          "data": {
            "text/plain": [
              "24.965973167412017"
            ]
          },
          "metadata": {},
          "execution_count": 21
        }
      ]
    },
    {
      "cell_type": "code",
      "source": [
        "city_mpg"
      ],
      "metadata": {
        "colab": {
          "base_uri": "https://localhost:8080/"
        },
        "id": "xjJzeVp7Ov_M",
        "outputId": "32ff269f-9f6e-4d20-8d82-27a292afb994"
      },
      "execution_count": null,
      "outputs": [
        {
          "output_type": "execute_result",
          "data": {
            "text/plain": [
              "0        19\n",
              "1         9\n",
              "2        23\n",
              "3        10\n",
              "4        17\n",
              "         ..\n",
              "41139    19\n",
              "41140    20\n",
              "41141    18\n",
              "41142    18\n",
              "41143    16\n",
              "Name: city08, Length: 41144, dtype: int64"
            ]
          },
          "metadata": {},
          "execution_count": 17
        }
      ]
    },
    {
      "cell_type": "markdown",
      "source": [
        "**This trick comes from the fact that Python treats `True` as `1` and `False` as `0`. If you sum up a series of boolean values, the result is the count of `True` values.** **If you take the `mean` of a series of boolean values, the result is the fraction of values that are `True`.**\n",
        "\n",
        "\n",
        "You can use this trick with any series of boolean values.\n",
        "\n",
        "### .agg and Aggregation strings\n",
        "\n",
        "Finally, the `.agg` method does aggregations. But like `.quantile`, it also transforms the data in other way depending on how it is called."
      ],
      "metadata": {
        "id": "s4epLLwhU05p"
      }
    },
    {
      "cell_type": "code",
      "source": [
        "# We can use .agg to calculate the mean:\n",
        "city_mpg.agg('mean')"
      ],
      "metadata": {
        "colab": {
          "base_uri": "https://localhost:8080/"
        },
        "id": "0V8v_Pmka3FG",
        "outputId": "273cdcb9-5c80-4ccc-b0e6-9405398f786d"
      },
      "execution_count": null,
      "outputs": [
        {
          "output_type": "execute_result",
          "data": {
            "text/plain": [
              "18.369045304297103"
            ]
          },
          "metadata": {},
          "execution_count": 22
        }
      ]
    },
    {
      "cell_type": "markdown",
      "source": [
        "However, that is easier with `city_mpg.mean()`. Where `.agg` shines is in the ability to perform multiple aggregations. In that case, it returns a series. You can pass in the name of aggregations methods, Numpy reduction functions, Python aggregations, or define your own aggregation function."
      ],
      "metadata": {
        "id": "TbjgXxx-b8vq"
      }
    },
    {
      "cell_type": "code",
      "source": [
        "import numpy as np\n",
        "def second_to_last(s): # penúltimo número\n",
        "    return s.iloc[-2]"
      ],
      "metadata": {
        "id": "Z-T4L5EFdiTP"
      },
      "execution_count": null,
      "outputs": []
    },
    {
      "cell_type": "code",
      "source": [
        "city_mpg.agg(['mean', np.var, max, second_to_last])"
      ],
      "metadata": {
        "colab": {
          "base_uri": "https://localhost:8080/"
        },
        "id": "VaMHWv_Xd5Ev",
        "outputId": "74599728-964c-4db5-e7d7-aaba05298401"
      },
      "execution_count": null,
      "outputs": [
        {
          "output_type": "execute_result",
          "data": {
            "text/plain": [
              "mean               18.369045\n",
              "var                62.503036\n",
              "max               150.000000\n",
              "second_to_last     18.000000\n",
              "Name: city08, dtype: float64"
            ]
          },
          "metadata": {},
          "execution_count": 24
        }
      ]
    },
    {
      "cell_type": "markdown",
      "source": [
        "Aggregation stringd on pages 46/47.\n",
        "\n",
        "Aggregation methods and properties on pages 47/48."
      ],
      "metadata": {
        "id": "ZyBh_EIBekj4"
      }
    },
    {
      "cell_type": "code",
      "source": [
        "# Find the count of non-missing values of a series.\n",
        "(city_mpg\n",
        " .count()\n",
        ")"
      ],
      "metadata": {
        "colab": {
          "base_uri": "https://localhost:8080/"
        },
        "id": "eeHmJWY2e0Qb",
        "outputId": "36154427-4503-4d43-bc26-e2d6b91efe03"
      },
      "execution_count": null,
      "outputs": [
        {
          "output_type": "execute_result",
          "data": {
            "text/plain": [
              "41144"
            ]
          },
          "metadata": {},
          "execution_count": 27
        }
      ]
    },
    {
      "cell_type": "code",
      "source": [
        "# Find the number of entries of a series.\n",
        "(city_mpg\n",
        " .size\n",
        ")"
      ],
      "metadata": {
        "colab": {
          "base_uri": "https://localhost:8080/"
        },
        "id": "3nFbLxjxfNHX",
        "outputId": "30503be2-b8f4-4dc7-a57a-6fa43a761233"
      },
      "execution_count": null,
      "outputs": [
        {
          "output_type": "execute_result",
          "data": {
            "text/plain": [
              "41144"
            ]
          },
          "metadata": {},
          "execution_count": 29
        }
      ]
    },
    {
      "cell_type": "code",
      "source": [
        "# Find the number of unique entries of a series.\n",
        "(city_mpg\n",
        " .nunique()\n",
        ")"
      ],
      "metadata": {
        "colab": {
          "base_uri": "https://localhost:8080/"
        },
        "id": "l00kWN05ff9V",
        "outputId": "8993d832-6df5-4458-a63f-01d9667e896f"
      },
      "execution_count": null,
      "outputs": [
        {
          "output_type": "execute_result",
          "data": {
            "text/plain": [
              "105"
            ]
          },
          "metadata": {},
          "execution_count": 33
        }
      ]
    },
    {
      "cell_type": "code",
      "source": [
        "# Find the mean value of a series.\n",
        "(city_mpg\n",
        " .mean()\n",
        ")"
      ],
      "metadata": {
        "colab": {
          "base_uri": "https://localhost:8080/"
        },
        "id": "C1LRjSu6f3cq",
        "outputId": "81c1110c-4478-4700-9197-3afdfaf637f2"
      },
      "execution_count": null,
      "outputs": [
        {
          "output_type": "execute_result",
          "data": {
            "text/plain": [
              "18.369045304297103"
            ]
          },
          "metadata": {},
          "execution_count": 34
        }
      ]
    },
    {
      "cell_type": "code",
      "source": [
        "# Find the maximum value of a series.\n",
        "(city_mpg\n",
        " .max()\n",
        " )"
      ],
      "metadata": {
        "colab": {
          "base_uri": "https://localhost:8080/"
        },
        "id": "q45IljdIf8az",
        "outputId": "50d86d56-a448-46e7-f38f-083e321ea57a"
      },
      "execution_count": null,
      "outputs": [
        {
          "output_type": "execute_result",
          "data": {
            "text/plain": [
              "150"
            ]
          },
          "metadata": {},
          "execution_count": 36
        }
      ]
    },
    {
      "cell_type": "code",
      "source": [
        "# Use the .agg method to find all of the above.\n",
        "(city_mpg\n",
        " .agg(['count', 'size', 'nunique', 'mean', 'max'])\n",
        ")"
      ],
      "metadata": {
        "colab": {
          "base_uri": "https://localhost:8080/"
        },
        "id": "D2IR4mPagIz-",
        "outputId": "225246d3-0b1e-4a9a-fc79-d1beeed10209"
      },
      "execution_count": null,
      "outputs": [
        {
          "output_type": "execute_result",
          "data": {
            "text/plain": [
              "count      41144.000000\n",
              "size       41144.000000\n",
              "nunique      105.000000\n",
              "mean          18.369045\n",
              "max          150.000000\n",
              "Name: city08, dtype: float64"
            ]
          },
          "metadata": {},
          "execution_count": 38
        }
      ]
    }
  ]
}