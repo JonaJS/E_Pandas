{
  "nbformat": 4,
  "nbformat_minor": 0,
  "metadata": {
    "colab": {
      "provenance": [],
      "authorship_tag": "ABX9TyPMQMGL4+1zqw2wmF7ZryuP",
      "include_colab_link": true
    },
    "kernelspec": {
      "name": "python3",
      "display_name": "Python 3"
    },
    "language_info": {
      "name": "python"
    }
  },
  "cells": [
    {
      "cell_type": "markdown",
      "metadata": {
        "id": "view-in-github",
        "colab_type": "text"
      },
      "source": [
        "<a href=\"https://colab.research.google.com/github/JonaJS/E_Pandas/blob/main/Chptr4_Series%2BIntroduction.ipynb\" target=\"_parent\"><img src=\"https://colab.research.google.com/assets/colab-badge.svg\" alt=\"Open In Colab\"/></a>"
      ]
    },
    {
      "cell_type": "code",
      "execution_count": 1,
      "metadata": {
        "id": "WA1Xvrtan3kk"
      },
      "outputs": [],
      "source": [
        "series = {\n",
        "    'index': [0, 1, 2, 3],\n",
        "    'data': [145, 142, 38, 13],\n",
        "    'name': 'songs'\n",
        "}"
      ]
    },
    {
      "cell_type": "code",
      "source": [
        "def get(series, index):\n",
        "  value_idx = series['index'].index(index)\n",
        "  return series['data'][value_idx]"
      ],
      "metadata": {
        "id": "d7-MMmXO6zyW"
      },
      "execution_count": 2,
      "outputs": []
    },
    {
      "cell_type": "code",
      "source": [
        "get(series=series, index=3)"
      ],
      "metadata": {
        "colab": {
          "base_uri": "https://localhost:8080/"
        },
        "id": "k83BlUbs7RS3",
        "outputId": "1fd6840e-1874-4952-87b1-c5dce9d68c4d"
      },
      "execution_count": 3,
      "outputs": [
        {
          "output_type": "execute_result",
          "data": {
            "text/plain": [
              "13"
            ]
          },
          "metadata": {},
          "execution_count": 3
        }
      ]
    },
    {
      "cell_type": "code",
      "source": [
        "songs = {\n",
        "    'index': ['Paul', 'John', 'George', 'Ringo'],\n",
        "    'data': [145, 142, 38, 13],\n",
        "    'name': 'counts'\n",
        "}"
      ],
      "metadata": {
        "id": "x9skfPND9YMZ"
      },
      "execution_count": 4,
      "outputs": []
    },
    {
      "cell_type": "code",
      "source": [
        "def get(series, index):\n",
        "  value_idx = series['index'].index(index)\n",
        "  return series['data'][value_idx]"
      ],
      "metadata": {
        "id": "5hF_4tVQ9r8B"
      },
      "execution_count": 5,
      "outputs": []
    },
    {
      "cell_type": "code",
      "source": [
        "get(series=songs, index='John')"
      ],
      "metadata": {
        "colab": {
          "base_uri": "https://localhost:8080/"
        },
        "id": "ZKSAu3Y-96E3",
        "outputId": "d10bc58e-29e6-46ad-bff0-49cb90a1a62a"
      },
      "execution_count": 6,
      "outputs": [
        {
          "output_type": "execute_result",
          "data": {
            "text/plain": [
              "142"
            ]
          },
          "metadata": {},
          "execution_count": 6
        }
      ]
    },
    {
      "cell_type": "markdown",
      "source": [
        "Pandas series."
      ],
      "metadata": {
        "id": "unN2eqjd-PDW"
      }
    },
    {
      "cell_type": "code",
      "source": [
        "import pandas as pd\n",
        "songs = pd.Series([145, 142, 38, 13], name='counts')"
      ],
      "metadata": {
        "id": "LU11IIMS-VBs"
      },
      "execution_count": 7,
      "outputs": []
    },
    {
      "cell_type": "code",
      "source": [
        "songs"
      ],
      "metadata": {
        "colab": {
          "base_uri": "https://localhost:8080/"
        },
        "id": "mlqO_hiB-_9H",
        "outputId": "dcc9bd17-ae9e-423e-d45d-8fec9577d036"
      },
      "execution_count": 8,
      "outputs": [
        {
          "output_type": "execute_result",
          "data": {
            "text/plain": [
              "0    145\n",
              "1    142\n",
              "2     38\n",
              "3     13\n",
              "Name: counts, dtype: int64"
            ]
          },
          "metadata": {},
          "execution_count": 8
        }
      ]
    },
    {
      "cell_type": "code",
      "source": [
        "songs.index"
      ],
      "metadata": {
        "colab": {
          "base_uri": "https://localhost:8080/"
        },
        "id": "2gumh6nvBOjn",
        "outputId": "6bfa6572-7db6-44d5-e598-116d9301cccc"
      },
      "execution_count": 9,
      "outputs": [
        {
          "output_type": "execute_result",
          "data": {
            "text/plain": [
              "RangeIndex(start=0, stop=4, step=1)"
            ]
          },
          "metadata": {},
          "execution_count": 9
        }
      ]
    },
    {
      "cell_type": "code",
      "source": [
        "songs3 = pd.Series([145, 142, 38, 13],\n",
        "                   name='counts',\n",
        "                   index=['Paul', 'John', 'George', 'Ringo']\n",
        "                   )"
      ],
      "metadata": {
        "id": "AJD-ppUEWJY4"
      },
      "execution_count": 10,
      "outputs": []
    },
    {
      "cell_type": "code",
      "source": [
        "songs3"
      ],
      "metadata": {
        "colab": {
          "base_uri": "https://localhost:8080/"
        },
        "id": "mvUiAOfwWkXA",
        "outputId": "64fe0664-56d0-4b9f-fc2e-9d3089bb1adb"
      },
      "execution_count": 11,
      "outputs": [
        {
          "output_type": "execute_result",
          "data": {
            "text/plain": [
              "Paul      145\n",
              "John      142\n",
              "George     38\n",
              "Ringo      13\n",
              "Name: counts, dtype: int64"
            ]
          },
          "metadata": {},
          "execution_count": 11
        }
      ]
    },
    {
      "cell_type": "code",
      "source": [
        "songs3.index"
      ],
      "metadata": {
        "colab": {
          "base_uri": "https://localhost:8080/"
        },
        "id": "JfpZqc5-Wrhc",
        "outputId": "6d0660a4-80db-46e7-acc9-dbb0ee908339"
      },
      "execution_count": 12,
      "outputs": [
        {
          "output_type": "execute_result",
          "data": {
            "text/plain": [
              "Index(['Paul', 'John', 'George', 'Ringo'], dtype='object')"
            ]
          },
          "metadata": {},
          "execution_count": 12
        }
      ]
    },
    {
      "cell_type": "markdown",
      "source": [
        "The actual data (or values) for a series does not have to be numeric or homegeneous. We can insert Python objects into a series."
      ],
      "metadata": {
        "id": "4y2n7ZVpYBS_"
      }
    },
    {
      "cell_type": "code",
      "source": [
        "class Foo():\n",
        "  pass\n",
        "\n",
        "ringo = pd.Series(['Richard', 'Starkey', 13, Foo()], name='Ringo')"
      ],
      "metadata": {
        "id": "9lBd_gInYP-p"
      },
      "execution_count": 13,
      "outputs": []
    },
    {
      "cell_type": "code",
      "source": [
        "ringo"
      ],
      "metadata": {
        "colab": {
          "base_uri": "https://localhost:8080/"
        },
        "id": "IQnAJMouYkEj",
        "outputId": "6ca0f6d9-17b5-423f-e024-61f2b4bc5fe5"
      },
      "execution_count": 14,
      "outputs": [
        {
          "output_type": "execute_result",
          "data": {
            "text/plain": [
              "0                                    Richard\n",
              "1                                    Starkey\n",
              "2                                         13\n",
              "3    <__main__.Foo object at 0x7c7fb07bf460>\n",
              "Name: Ringo, dtype: object"
            ]
          },
          "metadata": {},
          "execution_count": 14
        }
      ]
    },
    {
      "cell_type": "markdown",
      "source": [
        "The NaN value"
      ],
      "metadata": {
        "id": "dffVdiPMZNAA"
      }
    },
    {
      "cell_type": "code",
      "source": [],
      "metadata": {
        "id": "a8m5UEVIZPj_"
      },
      "execution_count": null,
      "outputs": []
    }
  ]
}