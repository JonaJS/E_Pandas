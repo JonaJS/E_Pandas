{
  "nbformat": 4,
  "nbformat_minor": 0,
  "metadata": {
    "colab": {
      "provenance": [],
      "authorship_tag": "ABX9TyOecp40NoxlOt4309KSyAHB",
      "include_colab_link": true
    },
    "kernelspec": {
      "name": "python3",
      "display_name": "Python 3"
    },
    "language_info": {
      "name": "python"
    }
  },
  "cells": [
    {
      "cell_type": "markdown",
      "metadata": {
        "id": "view-in-github",
        "colab_type": "text"
      },
      "source": [
        "<a href=\"https://colab.research.google.com/github/JonaJS/E_Pandas/blob/main/Chptr4_Series%2BIntroduction.ipynb\" target=\"_parent\"><img src=\"https://colab.research.google.com/assets/colab-badge.svg\" alt=\"Open In Colab\"/></a>"
      ]
    },
    {
      "cell_type": "code",
      "execution_count": 1,
      "metadata": {
        "id": "WA1Xvrtan3kk"
      },
      "outputs": [],
      "source": [
        "series = {\n",
        "    'index': [0, 1, 2, 3],\n",
        "    'data': [145, 142, 38, 13],\n",
        "    'name': 'songs'\n",
        "}"
      ]
    },
    {
      "cell_type": "code",
      "source": [
        "def get(series, index):\n",
        "  value_idx = series['index'].index(index)\n",
        "  return series['data'][value_idx]"
      ],
      "metadata": {
        "id": "d7-MMmXO6zyW"
      },
      "execution_count": 2,
      "outputs": []
    },
    {
      "cell_type": "code",
      "source": [
        "get(series=series, index=3)"
      ],
      "metadata": {
        "colab": {
          "base_uri": "https://localhost:8080/"
        },
        "id": "k83BlUbs7RS3",
        "outputId": "e0815ea9-00a2-4ce4-eb45-3739366b2fbf"
      },
      "execution_count": 3,
      "outputs": [
        {
          "output_type": "execute_result",
          "data": {
            "text/plain": [
              "13"
            ]
          },
          "metadata": {},
          "execution_count": 3
        }
      ]
    },
    {
      "cell_type": "code",
      "source": [
        "songs = {\n",
        "    'index': ['Paul', 'John', 'George', 'Ringo'],\n",
        "    'data': [145, 142, 38, 13],\n",
        "    'name': 'counts'\n",
        "}"
      ],
      "metadata": {
        "id": "x9skfPND9YMZ"
      },
      "execution_count": 4,
      "outputs": []
    },
    {
      "cell_type": "code",
      "source": [
        "def get(series, index):\n",
        "  value_idx = series['index'].index(index)\n",
        "  return series['data'][value_idx]"
      ],
      "metadata": {
        "id": "5hF_4tVQ9r8B"
      },
      "execution_count": 5,
      "outputs": []
    },
    {
      "cell_type": "code",
      "source": [
        "get(series=songs, index='John')"
      ],
      "metadata": {
        "colab": {
          "base_uri": "https://localhost:8080/"
        },
        "id": "ZKSAu3Y-96E3",
        "outputId": "4b96e83c-08de-4446-e7a2-e2cc647dfbdd"
      },
      "execution_count": 6,
      "outputs": [
        {
          "output_type": "execute_result",
          "data": {
            "text/plain": [
              "142"
            ]
          },
          "metadata": {},
          "execution_count": 6
        }
      ]
    },
    {
      "cell_type": "markdown",
      "source": [
        "Pandas series."
      ],
      "metadata": {
        "id": "unN2eqjd-PDW"
      }
    },
    {
      "cell_type": "code",
      "source": [
        "import pandas as pd\n",
        "songs = pd.Series([145, 142, 38, 13], name='counts')"
      ],
      "metadata": {
        "id": "LU11IIMS-VBs"
      },
      "execution_count": 7,
      "outputs": []
    },
    {
      "cell_type": "code",
      "source": [
        "songs"
      ],
      "metadata": {
        "colab": {
          "base_uri": "https://localhost:8080/"
        },
        "id": "mlqO_hiB-_9H",
        "outputId": "a1a875ae-3f7e-486e-ec89-d63bfe68fa8a"
      },
      "execution_count": 8,
      "outputs": [
        {
          "output_type": "execute_result",
          "data": {
            "text/plain": [
              "0    145\n",
              "1    142\n",
              "2     38\n",
              "3     13\n",
              "Name: counts, dtype: int64"
            ]
          },
          "metadata": {},
          "execution_count": 8
        }
      ]
    },
    {
      "cell_type": "code",
      "source": [
        "songs.index"
      ],
      "metadata": {
        "colab": {
          "base_uri": "https://localhost:8080/"
        },
        "id": "2gumh6nvBOjn",
        "outputId": "16f5e66e-ffd5-4b0b-b82a-5a6b42f656af"
      },
      "execution_count": 9,
      "outputs": [
        {
          "output_type": "execute_result",
          "data": {
            "text/plain": [
              "RangeIndex(start=0, stop=4, step=1)"
            ]
          },
          "metadata": {},
          "execution_count": 9
        }
      ]
    },
    {
      "cell_type": "code",
      "source": [
        "songs3 = pd.Series([145, 142, 38, 13],\n",
        "                   name='counts',\n",
        "                   index=['Paul', 'John', 'George', 'Ringo']\n",
        "                   )"
      ],
      "metadata": {
        "id": "AJD-ppUEWJY4"
      },
      "execution_count": 10,
      "outputs": []
    },
    {
      "cell_type": "code",
      "source": [
        "songs3"
      ],
      "metadata": {
        "colab": {
          "base_uri": "https://localhost:8080/"
        },
        "id": "mvUiAOfwWkXA",
        "outputId": "3a26fa94-3e7e-4139-fc5b-1c8b966d75e1"
      },
      "execution_count": 11,
      "outputs": [
        {
          "output_type": "execute_result",
          "data": {
            "text/plain": [
              "Paul      145\n",
              "John      142\n",
              "George     38\n",
              "Ringo      13\n",
              "Name: counts, dtype: int64"
            ]
          },
          "metadata": {},
          "execution_count": 11
        }
      ]
    },
    {
      "cell_type": "code",
      "source": [
        "songs3.index"
      ],
      "metadata": {
        "colab": {
          "base_uri": "https://localhost:8080/"
        },
        "id": "JfpZqc5-Wrhc",
        "outputId": "cfbf0704-ece5-4206-b7e2-c7b824994295"
      },
      "execution_count": 12,
      "outputs": [
        {
          "output_type": "execute_result",
          "data": {
            "text/plain": [
              "Index(['Paul', 'John', 'George', 'Ringo'], dtype='object')"
            ]
          },
          "metadata": {},
          "execution_count": 12
        }
      ]
    },
    {
      "cell_type": "markdown",
      "source": [
        "The actual data (or values) for a series does not have to be numeric or homegeneous. We can insert Python objects into a series."
      ],
      "metadata": {
        "id": "4y2n7ZVpYBS_"
      }
    },
    {
      "cell_type": "code",
      "source": [
        "class Foo():\n",
        "  pass\n",
        "\n",
        "ringo = pd.Series(['Richard', 'Starkey', 13, Foo()], name='Ringo')"
      ],
      "metadata": {
        "id": "9lBd_gInYP-p"
      },
      "execution_count": 13,
      "outputs": []
    },
    {
      "cell_type": "code",
      "source": [
        "ringo"
      ],
      "metadata": {
        "colab": {
          "base_uri": "https://localhost:8080/"
        },
        "id": "IQnAJMouYkEj",
        "outputId": "da8a79bf-e5a1-4267-f56e-8eb54791fcb1"
      },
      "execution_count": 14,
      "outputs": [
        {
          "output_type": "execute_result",
          "data": {
            "text/plain": [
              "0                                    Richard\n",
              "1                                    Starkey\n",
              "2                                         13\n",
              "3    <__main__.Foo object at 0x7c1136dfd5d0>\n",
              "Name: Ringo, dtype: object"
            ]
          },
          "metadata": {},
          "execution_count": 14
        }
      ]
    },
    {
      "cell_type": "markdown",
      "source": [
        "The NaN value"
      ],
      "metadata": {
        "id": "dffVdiPMZNAA"
      }
    },
    {
      "cell_type": "code",
      "source": [
        "import numpy as np\n",
        "nan_series = pd.Series([2, np.nan], index=[\"Ono\", \"Clapton\"])"
      ],
      "metadata": {
        "id": "a8m5UEVIZPj_"
      },
      "execution_count": 15,
      "outputs": []
    },
    {
      "cell_type": "code",
      "source": [
        "nan_series"
      ],
      "metadata": {
        "id": "7yeTXF4CaL2v",
        "outputId": "19ac92d4-6d56-4ad5-a102-50bcd4c96413",
        "colab": {
          "base_uri": "https://localhost:8080/"
        }
      },
      "execution_count": 16,
      "outputs": [
        {
          "output_type": "execute_result",
          "data": {
            "text/plain": [
              "Ono        2.0\n",
              "Clapton    NaN\n",
              "dtype: float64"
            ]
          },
          "metadata": {},
          "execution_count": 16
        }
      ]
    },
    {
      "cell_type": "markdown",
      "source": [
        "When pandas sees numeric data (number 2) as well np.nan, it coerced the 2 to a float value."
      ],
      "metadata": {
        "id": "FoOm-34FdJVH"
      }
    },
    {
      "cell_type": "markdown",
      "source": [
        "Example of how pandas ignores NaN values.\n",
        ".count() method, which counts the number of values in a series, disregards NaN."
      ],
      "metadata": {
        "id": "ngByAV1CdgDk"
      }
    },
    {
      "cell_type": "code",
      "source": [
        "nan_series.count()"
      ],
      "metadata": {
        "colab": {
          "base_uri": "https://localhost:8080/"
        },
        "id": "XSUMJHHCdIaQ",
        "outputId": "2b304039-e0a4-4c17-c346-c69123c02d90"
      },
      "execution_count": 17,
      "outputs": [
        {
          "output_type": "execute_result",
          "data": {
            "text/plain": [
              "1"
            ]
          },
          "metadata": {},
          "execution_count": 17
        }
      ]
    },
    {
      "cell_type": "markdown",
      "source": [
        "Inspect the number of entries (including missing values)"
      ],
      "metadata": {
        "id": "_awOBWjfeDxy"
      }
    },
    {
      "cell_type": "code",
      "source": [
        "nan_series.size"
      ],
      "metadata": {
        "colab": {
          "base_uri": "https://localhost:8080/"
        },
        "id": "Wfd6BykMeEFl",
        "outputId": "5ce9ff38-ee01-47df-c9cf-ff8497b4cf7b"
      },
      "execution_count": 18,
      "outputs": [
        {
          "output_type": "execute_result",
          "data": {
            "text/plain": [
              "2"
            ]
          },
          "metadata": {},
          "execution_count": 18
        }
      ]
    },
    {
      "cell_type": "markdown",
      "source": [
        "Optional integer support for NaN."
      ],
      "metadata": {
        "id": "qaMHpFqbeS3Z"
      }
    },
    {
      "cell_type": "code",
      "source": [
        "nan_series2 = pd.Series([2, np.nan], index=['Ono', 'Clapton'], dtype='Int64')\n",
        "nan_series2"
      ],
      "metadata": {
        "colab": {
          "base_uri": "https://localhost:8080/"
        },
        "id": "5H8UhNbseX5d",
        "outputId": "aa4d5377-9b42-4576-d687-a151e5f4fd63"
      },
      "execution_count": 19,
      "outputs": [
        {
          "output_type": "execute_result",
          "data": {
            "text/plain": [
              "Ono           2\n",
              "Clapton    <NA>\n",
              "dtype: Int64"
            ]
          },
          "metadata": {},
          "execution_count": 19
        }
      ]
    },
    {
      "cell_type": "markdown",
      "source": [
        "Operations on these series still ignore NaN or < NA >"
      ],
      "metadata": {
        "id": "PM4poaC7f8Oe"
      }
    },
    {
      "cell_type": "code",
      "source": [
        "nan_series2.count()"
      ],
      "metadata": {
        "colab": {
          "base_uri": "https://localhost:8080/"
        },
        "id": "EPNYVCyvgBGk",
        "outputId": "6a4a10a2-b47e-42c6-e3e2-377b3ef68c63"
      },
      "execution_count": 20,
      "outputs": [
        {
          "output_type": "execute_result",
          "data": {
            "text/plain": [
              "1"
            ]
          },
          "metadata": {},
          "execution_count": 20
        }
      ]
    },
    {
      "cell_type": "code",
      "source": [
        "nan_series2.size"
      ],
      "metadata": {
        "colab": {
          "base_uri": "https://localhost:8080/"
        },
        "id": "95xS4RrLgKJ6",
        "outputId": "fc2eb2ca-ac2f-4ec9-ebf3-f70cb729daa0"
      },
      "execution_count": 21,
      "outputs": [
        {
          "output_type": "execute_result",
          "data": {
            "text/plain": [
              "2"
            ]
          },
          "metadata": {},
          "execution_count": 21
        }
      ]
    },
    {
      "cell_type": "markdown",
      "source": [
        "Oher way to change the dtype o a series"
      ],
      "metadata": {
        "id": "QnUzbdgxgYZ4"
      }
    },
    {
      "cell_type": "code",
      "source": [
        "nan_series"
      ],
      "metadata": {
        "colab": {
          "base_uri": "https://localhost:8080/"
        },
        "id": "OMZuioV-gdSX",
        "outputId": "863017cc-25de-4eef-aba2-0a0ff6c1a378"
      },
      "execution_count": 22,
      "outputs": [
        {
          "output_type": "execute_result",
          "data": {
            "text/plain": [
              "Ono        2.0\n",
              "Clapton    NaN\n",
              "dtype: float64"
            ]
          },
          "metadata": {},
          "execution_count": 22
        }
      ]
    },
    {
      "cell_type": "code",
      "source": [
        "print(nan_series.astype('Int64'))\n"
      ],
      "metadata": {
        "colab": {
          "base_uri": "https://localhost:8080/"
        },
        "id": "N6lqafjagfvS",
        "outputId": "bbd977e1-16fc-4adf-cb41-60dea4c30ca1"
      },
      "execution_count": 23,
      "outputs": [
        {
          "output_type": "stream",
          "name": "stdout",
          "text": [
            "Ono           2\n",
            "Clapton    <NA>\n",
            "dtype: Int64\n"
          ]
        }
      ]
    },
    {
      "cell_type": "markdown",
      "source": [
        "Similar to Numpy."
      ],
      "metadata": {
        "id": "iTQa_7aWgt4-"
      }
    },
    {
      "cell_type": "code",
      "source": [
        "songs3"
      ],
      "metadata": {
        "colab": {
          "base_uri": "https://localhost:8080/"
        },
        "id": "WfzDbKM2gvgw",
        "outputId": "6ec0eeb7-1732-4c4d-ef80-d995d2f7f13b"
      },
      "execution_count": 24,
      "outputs": [
        {
          "output_type": "execute_result",
          "data": {
            "text/plain": [
              "Paul      145\n",
              "John      142\n",
              "George     38\n",
              "Ringo      13\n",
              "Name: counts, dtype: int64"
            ]
          },
          "metadata": {},
          "execution_count": 24
        }
      ]
    },
    {
      "cell_type": "code",
      "source": [
        "import numpy\n",
        "numpy_ser = np.array([145, 142, 38, 13])"
      ],
      "metadata": {
        "id": "cjq9q7OJhGkz"
      },
      "execution_count": 25,
      "outputs": []
    },
    {
      "cell_type": "code",
      "source": [
        "print(songs3[0])\n",
        "print(numpy_ser[0])"
      ],
      "metadata": {
        "colab": {
          "base_uri": "https://localhost:8080/"
        },
        "id": "kD495OOJUL5c",
        "outputId": "4d9d2cfa-44ae-4015-a1e2-74239e2d4f95"
      },
      "execution_count": 26,
      "outputs": [
        {
          "output_type": "stream",
          "name": "stdout",
          "text": [
            "145\n",
            "145\n"
          ]
        }
      ]
    },
    {
      "cell_type": "markdown",
      "source": [
        "They both have methods in common:"
      ],
      "metadata": {
        "id": "2yf-30XDbVCh"
      }
    },
    {
      "cell_type": "code",
      "source": [
        "songs3.mean()"
      ],
      "metadata": {
        "colab": {
          "base_uri": "https://localhost:8080/"
        },
        "id": "3sOpAcvZbaax",
        "outputId": "79dadbbe-c95f-4dd7-dde3-0da589de64e8"
      },
      "execution_count": 27,
      "outputs": [
        {
          "output_type": "execute_result",
          "data": {
            "text/plain": [
              "84.5"
            ]
          },
          "metadata": {},
          "execution_count": 27
        }
      ]
    },
    {
      "cell_type": "code",
      "source": [
        "numpy_ser.mean()"
      ],
      "metadata": {
        "colab": {
          "base_uri": "https://localhost:8080/"
        },
        "id": "mm0ca83lbfdx",
        "outputId": "b42e0c3b-3ebe-4f86-98cd-06032a060df7"
      },
      "execution_count": 28,
      "outputs": [
        {
          "output_type": "execute_result",
          "data": {
            "text/plain": [
              "84.5"
            ]
          },
          "metadata": {},
          "execution_count": 28
        }
      ]
    },
    {
      "cell_type": "markdown",
      "source": [
        "They also have a notation of a boolean array. A boolean array is a series with the same index as the series we are working with that has boolean values, and it can be used as a mask to filter out items."
      ],
      "metadata": {
        "id": "CBWWO2Usdh8C"
      }
    },
    {
      "cell_type": "code",
      "source": [
        "mask = songs3 > songs3.median()\n",
        "mask"
      ],
      "metadata": {
        "colab": {
          "base_uri": "https://localhost:8080/"
        },
        "id": "h7HhR-Dwd8B1",
        "outputId": "9b44527e-d546-4808-ce29-aca5c0c2d5d8"
      },
      "execution_count": 29,
      "outputs": [
        {
          "output_type": "execute_result",
          "data": {
            "text/plain": [
              "Paul       True\n",
              "John       True\n",
              "George    False\n",
              "Ringo     False\n",
              "Name: counts, dtype: bool"
            ]
          },
          "metadata": {},
          "execution_count": 29
        }
      ]
    },
    {
      "cell_type": "code",
      "source": [
        "songs3[mask]"
      ],
      "metadata": {
        "colab": {
          "base_uri": "https://localhost:8080/"
        },
        "id": "yzQgyQlUeJd1",
        "outputId": "0522e9cb-56d4-4d63-9e0c-88fe76dab062"
      },
      "execution_count": 30,
      "outputs": [
        {
          "output_type": "execute_result",
          "data": {
            "text/plain": [
              "Paul    145\n",
              "John    142\n",
              "Name: counts, dtype: int64"
            ]
          },
          "metadata": {},
          "execution_count": 30
        }
      ]
    },
    {
      "cell_type": "code",
      "source": [
        "mask2 = numpy_ser > np.median(numpy_ser)\n",
        "mask2"
      ],
      "metadata": {
        "colab": {
          "base_uri": "https://localhost:8080/"
        },
        "id": "iK9b-WXUXEML",
        "outputId": "0cebd7dc-40b6-4412-c1fb-c87104c12131"
      },
      "execution_count": 31,
      "outputs": [
        {
          "output_type": "execute_result",
          "data": {
            "text/plain": [
              "array([ True,  True, False, False])"
            ]
          },
          "metadata": {},
          "execution_count": 31
        }
      ]
    },
    {
      "cell_type": "code",
      "source": [
        "numpy_ser[mask2]"
      ],
      "metadata": {
        "colab": {
          "base_uri": "https://localhost:8080/"
        },
        "id": "_6M6XjEAXPS3",
        "outputId": "2c579112-041c-4685-9af4-338d9e10fadd"
      },
      "execution_count": 32,
      "outputs": [
        {
          "output_type": "execute_result",
          "data": {
            "text/plain": [
              "array([145, 142])"
            ]
          },
          "metadata": {},
          "execution_count": 32
        }
      ]
    },
    {
      "cell_type": "markdown",
      "source": [
        "Categorical data.\n",
        "When we load data, we can indicate that the data is categorical. If we know that our data is limited to a few values, we might want to use categorical data.\n",
        "\n",
        "Categorical values have a few benefits:\n",
        "\n",
        "\n",
        "*   Use less memory than strings.\n",
        "*   Improve performance.\n",
        "*   Can have an ordering.\n",
        "*   Can perform operations on categories.\n",
        "*   Enforce membership on values.\n",
        "\n"
      ],
      "metadata": {
        "id": "eiVeWsHRW-VI"
      }
    },
    {
      "cell_type": "code",
      "source": [
        "s = pd.Series(['m', 'l', 'xs', 's', 'xl'], dtype='category')\n",
        "s"
      ],
      "metadata": {
        "id": "lmf2ADAzXTj0",
        "colab": {
          "base_uri": "https://localhost:8080/"
        },
        "outputId": "144ad610-80c4-4eca-82a6-dc26f9592f9e"
      },
      "execution_count": 33,
      "outputs": [
        {
          "output_type": "execute_result",
          "data": {
            "text/plain": [
              "0     m\n",
              "1     l\n",
              "2    xs\n",
              "3     s\n",
              "4    xl\n",
              "dtype: category\n",
              "Categories (5, object): ['l', 'm', 's', 'xl', 'xs']"
            ]
          },
          "metadata": {},
          "execution_count": 33
        }
      ]
    },
    {
      "cell_type": "markdown",
      "source": [
        "If this series represents the size, there is a natural ordering as a small is less than a medium. By default, categories don't have an ordering. We can verify this by inspecting the `.cat` attribute that has various properties."
      ],
      "metadata": {
        "id": "qZxo-DRybeA3"
      }
    },
    {
      "cell_type": "code",
      "source": [
        "s.cat.ordered"
      ],
      "metadata": {
        "colab": {
          "base_uri": "https://localhost:8080/"
        },
        "id": "lo9YxfydahJy",
        "outputId": "865f4e54-dae3-429f-f827-098846202cdb"
      },
      "execution_count": 34,
      "outputs": [
        {
          "output_type": "execute_result",
          "data": {
            "text/plain": [
              "False"
            ]
          },
          "metadata": {},
          "execution_count": 34
        }
      ]
    },
    {
      "cell_type": "markdown",
      "source": [
        "To convert a non-categorical series to an ordered category, we can create a type with the CategorcialDtype constructor and the appropiate parameter.\n",
        "Then we pass this type into de `.astype` method:"
      ],
      "metadata": {
        "id": "EoUhu-yocBAs"
      }
    },
    {
      "cell_type": "code",
      "source": [
        "s2 = pd.Series(['m', 'l', 'xs', 's', 'xl'])\n",
        "size_type = pd.api.types.CategoricalDtype(categories=['s', 'm', 'l'], ordered=True)\n",
        "s3 = s2.astype(size_type)\n",
        "s3"
      ],
      "metadata": {
        "colab": {
          "base_uri": "https://localhost:8080/"
        },
        "id": "TCWweaSu5DOB",
        "outputId": "e24bdf9a-544a-4a5a-b62b-502b8d6cba99"
      },
      "execution_count": 36,
      "outputs": [
        {
          "output_type": "execute_result",
          "data": {
            "text/plain": [
              "0      m\n",
              "1      l\n",
              "2    NaN\n",
              "3      s\n",
              "4    NaN\n",
              "dtype: category\n",
              "Categories (3, object): ['s' < 'm' < 'l']"
            ]
          },
          "metadata": {},
          "execution_count": 36
        }
      ]
    },
    {
      "cell_type": "markdown",
      "source": [
        "In this case, we limited the categories to just 's', 'm', and 'l', but the data had values that were not in those categories. Converting the data to a category type replaces those extra values with NaN.\n",
        "\n",
        "If we ordered categories, we can do comparisons then:"
      ],
      "metadata": {
        "id": "g9U-GRJR5_FI"
      }
    },
    {
      "cell_type": "code",
      "source": [
        "s3 > 's'"
      ],
      "metadata": {
        "colab": {
          "base_uri": "https://localhost:8080/"
        },
        "id": "KyU-r0Nm5-cI",
        "outputId": "f0cd7d6f-8908-4b61-934c-b3351e9e2b14"
      },
      "execution_count": 37,
      "outputs": [
        {
          "output_type": "execute_result",
          "data": {
            "text/plain": [
              "0     True\n",
              "1     True\n",
              "2    False\n",
              "3    False\n",
              "4    False\n",
              "dtype: bool"
            ]
          },
          "metadata": {},
          "execution_count": 37
        }
      ]
    },
    {
      "cell_type": "markdown",
      "source": [
        "The prior example created a new *Series* from existing data that was not categorical. We can also add ordering information to a categorical data. We just need to make sure that we specify all of the members of the category or pandas will throw a *ValueError*:"
      ],
      "metadata": {
        "id": "F8tpCM-j66Bg"
      }
    },
    {
      "cell_type": "code",
      "source": [
        "new_s = s.cat.reorder_categories(['xs', 's', 'm', 'l', 'xl'], ordered=True)\n",
        "new_s"
      ],
      "metadata": {
        "colab": {
          "base_uri": "https://localhost:8080/"
        },
        "id": "FVFjWDF462Yx",
        "outputId": "73227a03-34e5-443d-db67-039b0ea52eca"
      },
      "execution_count": 40,
      "outputs": [
        {
          "output_type": "execute_result",
          "data": {
            "text/plain": [
              "0     m\n",
              "1     l\n",
              "2    xs\n",
              "3     s\n",
              "4    xl\n",
              "dtype: category\n",
              "Categories (5, object): ['xs' < 's' < 'm' < 'l' < 'xl']"
            ]
          },
          "metadata": {},
          "execution_count": 40
        }
      ]
    },
    {
      "cell_type": "markdown",
      "source": [
        "| Command      | Description |\n",
        "| ----------- | ----------- |\n",
        "| `pd.Series(data=None, index=None, dtype=None, name=None, copy=None)`      | Create a series from data (sequence, dictionary or scalar).       |\n",
        "| `s.index`   | Access index of series        |\n",
        "| `s.astrype(dtype, errors='raise')`   | Cast a series to `dtype`. To ignore errors (and return original object) use `errors='ignore'`        |\n",
        "| `s[boolean_array]`   | Return values from `s` where boolean_array is `True`        |\n",
        "| `s.cat.ordered`   | Determines if a categorical series is ordered        |\n",
        "| `s.cat.reorder_categories(new_categories, ordered=False)`   | Add categories (potentially ordered) to the series. `new_categories` must include all categories. We usually set `ordered=True`       |"
      ],
      "metadata": {
        "id": "3N4QB0V28RdN"
      }
    }
  ]
}