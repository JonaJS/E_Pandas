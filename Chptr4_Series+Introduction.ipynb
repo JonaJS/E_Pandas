{
  "nbformat": 4,
  "nbformat_minor": 0,
  "metadata": {
    "colab": {
      "provenance": [],
      "authorship_tag": "ABX9TyMTWT3F2Yyr+JhCot9GS5YM",
      "include_colab_link": true
    },
    "kernelspec": {
      "name": "python3",
      "display_name": "Python 3"
    },
    "language_info": {
      "name": "python"
    }
  },
  "cells": [
    {
      "cell_type": "markdown",
      "metadata": {
        "id": "view-in-github",
        "colab_type": "text"
      },
      "source": [
        "<a href=\"https://colab.research.google.com/github/JonaJS/E_Pandas/blob/main/Chptr4_Series%2BIntroduction.ipynb\" target=\"_parent\"><img src=\"https://colab.research.google.com/assets/colab-badge.svg\" alt=\"Open In Colab\"/></a>"
      ]
    },
    {
      "cell_type": "code",
      "execution_count": null,
      "metadata": {
        "id": "WA1Xvrtan3kk"
      },
      "outputs": [],
      "source": [
        "series = {\n",
        "    'index': [0, 1, 2, 3],\n",
        "    'data': [145, 142, 38, 13],\n",
        "    'name': 'songs'\n",
        "}"
      ]
    },
    {
      "cell_type": "code",
      "source": [
        "def get(series, index):\n",
        "  value_idx = series['index'].index(index)\n",
        "  return series['data'][value_idx]"
      ],
      "metadata": {
        "id": "d7-MMmXO6zyW"
      },
      "execution_count": null,
      "outputs": []
    },
    {
      "cell_type": "code",
      "source": [
        "get(series=series, index=3)"
      ],
      "metadata": {
        "colab": {
          "base_uri": "https://localhost:8080/"
        },
        "id": "k83BlUbs7RS3",
        "outputId": "77691259-6186-41e3-dec1-b5ec613f2b42"
      },
      "execution_count": null,
      "outputs": [
        {
          "output_type": "execute_result",
          "data": {
            "text/plain": [
              "13"
            ]
          },
          "metadata": {},
          "execution_count": 8
        }
      ]
    },
    {
      "cell_type": "code",
      "source": [
        "songs = {\n",
        "    'index': ['Paul', 'John', 'George', 'Ringo'],\n",
        "    'data': [145, 142, 38, 13],\n",
        "    'name': 'counts'\n",
        "}"
      ],
      "metadata": {
        "id": "x9skfPND9YMZ"
      },
      "execution_count": null,
      "outputs": []
    },
    {
      "cell_type": "code",
      "source": [
        "def get(series, index):\n",
        "  value_idx = series['index'].index(index)\n",
        "  return series['data'][value_idx]"
      ],
      "metadata": {
        "id": "5hF_4tVQ9r8B"
      },
      "execution_count": null,
      "outputs": []
    },
    {
      "cell_type": "code",
      "source": [
        "get(series=songs, index='John')"
      ],
      "metadata": {
        "colab": {
          "base_uri": "https://localhost:8080/"
        },
        "id": "ZKSAu3Y-96E3",
        "outputId": "f121f795-e00f-4a0f-c76f-4fd6b14c68b9"
      },
      "execution_count": null,
      "outputs": [
        {
          "output_type": "execute_result",
          "data": {
            "text/plain": [
              "142"
            ]
          },
          "metadata": {},
          "execution_count": 11
        }
      ]
    },
    {
      "cell_type": "markdown",
      "source": [
        "Pandas series."
      ],
      "metadata": {
        "id": "unN2eqjd-PDW"
      }
    },
    {
      "cell_type": "code",
      "source": [
        "import pandas as pd\n",
        "songs = pd.Series([145, 142, 38, 13], name='counts')"
      ],
      "metadata": {
        "id": "LU11IIMS-VBs"
      },
      "execution_count": null,
      "outputs": []
    },
    {
      "cell_type": "code",
      "source": [
        "songs"
      ],
      "metadata": {
        "colab": {
          "base_uri": "https://localhost:8080/"
        },
        "id": "mlqO_hiB-_9H",
        "outputId": "43e1f182-a7a7-42db-f70b-dc2d37e6bfdc"
      },
      "execution_count": null,
      "outputs": [
        {
          "output_type": "execute_result",
          "data": {
            "text/plain": [
              "0    145\n",
              "1    142\n",
              "2     38\n",
              "3     13\n",
              "Name: counts, dtype: int64"
            ]
          },
          "metadata": {},
          "execution_count": 13
        }
      ]
    },
    {
      "cell_type": "code",
      "source": [
        "songs.index"
      ],
      "metadata": {
        "colab": {
          "base_uri": "https://localhost:8080/"
        },
        "id": "2gumh6nvBOjn",
        "outputId": "8f2742c2-cf64-4839-86f9-ab4be00d59a4"
      },
      "execution_count": null,
      "outputs": [
        {
          "output_type": "execute_result",
          "data": {
            "text/plain": [
              "RangeIndex(start=0, stop=4, step=1)"
            ]
          },
          "metadata": {},
          "execution_count": 15
        }
      ]
    }
  ]
}