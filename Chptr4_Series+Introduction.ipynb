{
  "nbformat": 4,
  "nbformat_minor": 0,
  "metadata": {
    "colab": {
      "provenance": [],
      "authorship_tag": "ABX9TyMMXCnkU9dcFJrvvqGjJhqs",
      "include_colab_link": true
    },
    "kernelspec": {
      "name": "python3",
      "display_name": "Python 3"
    },
    "language_info": {
      "name": "python"
    }
  },
  "cells": [
    {
      "cell_type": "markdown",
      "metadata": {
        "id": "view-in-github",
        "colab_type": "text"
      },
      "source": [
        "<a href=\"https://colab.research.google.com/github/JonaJS/E_Pandas/blob/main/Chptr4_Series%2BIntroduction.ipynb\" target=\"_parent\"><img src=\"https://colab.research.google.com/assets/colab-badge.svg\" alt=\"Open In Colab\"/></a>"
      ]
    },
    {
      "cell_type": "code",
      "execution_count": 1,
      "metadata": {
        "id": "WA1Xvrtan3kk"
      },
      "outputs": [],
      "source": [
        "series = {\n",
        "    'index': [0, 1, 2, 3],\n",
        "    'data': [145, 142, 38, 13],\n",
        "    'name': 'songs'\n",
        "}"
      ]
    },
    {
      "cell_type": "code",
      "source": [
        "def get(series, index):\n",
        "  value_idx = series['index'].index(index)\n",
        "  return series['data'][value_idx]"
      ],
      "metadata": {
        "id": "d7-MMmXO6zyW"
      },
      "execution_count": 2,
      "outputs": []
    },
    {
      "cell_type": "code",
      "source": [
        "get(series=series, index=3)"
      ],
      "metadata": {
        "colab": {
          "base_uri": "https://localhost:8080/"
        },
        "id": "k83BlUbs7RS3",
        "outputId": "f0dfbd97-e72d-4e8e-9ebb-7581468e73f0"
      },
      "execution_count": 3,
      "outputs": [
        {
          "output_type": "execute_result",
          "data": {
            "text/plain": [
              "13"
            ]
          },
          "metadata": {},
          "execution_count": 3
        }
      ]
    },
    {
      "cell_type": "code",
      "source": [
        "songs = {\n",
        "    'index': ['Paul', 'John', 'George', 'Ringo'],\n",
        "    'data': [145, 142, 38, 13],\n",
        "    'name': 'counts'\n",
        "}"
      ],
      "metadata": {
        "id": "x9skfPND9YMZ"
      },
      "execution_count": 4,
      "outputs": []
    },
    {
      "cell_type": "code",
      "source": [
        "def get(series, index):\n",
        "  value_idx = series['index'].index(index)\n",
        "  return series['data'][value_idx]"
      ],
      "metadata": {
        "id": "5hF_4tVQ9r8B"
      },
      "execution_count": 5,
      "outputs": []
    },
    {
      "cell_type": "code",
      "source": [
        "get(series=songs, index='John')"
      ],
      "metadata": {
        "colab": {
          "base_uri": "https://localhost:8080/"
        },
        "id": "ZKSAu3Y-96E3",
        "outputId": "97ad320e-b1cf-41a3-b2bd-4d992667dd48"
      },
      "execution_count": 6,
      "outputs": [
        {
          "output_type": "execute_result",
          "data": {
            "text/plain": [
              "142"
            ]
          },
          "metadata": {},
          "execution_count": 6
        }
      ]
    },
    {
      "cell_type": "markdown",
      "source": [
        "Pandas series."
      ],
      "metadata": {
        "id": "unN2eqjd-PDW"
      }
    },
    {
      "cell_type": "code",
      "source": [
        "import pandas as pd\n",
        "songs = pd.Series([145, 142, 38, 13], name='counts')"
      ],
      "metadata": {
        "id": "LU11IIMS-VBs"
      },
      "execution_count": 7,
      "outputs": []
    },
    {
      "cell_type": "code",
      "source": [
        "songs"
      ],
      "metadata": {
        "colab": {
          "base_uri": "https://localhost:8080/"
        },
        "id": "mlqO_hiB-_9H",
        "outputId": "fc667c10-a045-4dcc-d279-cc794d357714"
      },
      "execution_count": 8,
      "outputs": [
        {
          "output_type": "execute_result",
          "data": {
            "text/plain": [
              "0    145\n",
              "1    142\n",
              "2     38\n",
              "3     13\n",
              "Name: counts, dtype: int64"
            ]
          },
          "metadata": {},
          "execution_count": 8
        }
      ]
    },
    {
      "cell_type": "code",
      "source": [
        "songs.index"
      ],
      "metadata": {
        "colab": {
          "base_uri": "https://localhost:8080/"
        },
        "id": "2gumh6nvBOjn",
        "outputId": "e7b75902-15c8-4bb3-d196-23099ca450a5"
      },
      "execution_count": 9,
      "outputs": [
        {
          "output_type": "execute_result",
          "data": {
            "text/plain": [
              "RangeIndex(start=0, stop=4, step=1)"
            ]
          },
          "metadata": {},
          "execution_count": 9
        }
      ]
    },
    {
      "cell_type": "code",
      "source": [
        "songs3 = pd.Series([145, 142, 38, 13],\n",
        "                   name='counts',\n",
        "                   index=['Paul', 'John', 'George', 'Ringo']\n",
        "                   )"
      ],
      "metadata": {
        "id": "AJD-ppUEWJY4"
      },
      "execution_count": 10,
      "outputs": []
    },
    {
      "cell_type": "code",
      "source": [
        "songs3"
      ],
      "metadata": {
        "colab": {
          "base_uri": "https://localhost:8080/"
        },
        "id": "mvUiAOfwWkXA",
        "outputId": "92fe771d-5976-48dd-f0dc-442e1ad96268"
      },
      "execution_count": 11,
      "outputs": [
        {
          "output_type": "execute_result",
          "data": {
            "text/plain": [
              "Paul      145\n",
              "John      142\n",
              "George     38\n",
              "Ringo      13\n",
              "Name: counts, dtype: int64"
            ]
          },
          "metadata": {},
          "execution_count": 11
        }
      ]
    },
    {
      "cell_type": "code",
      "source": [
        "songs3.index"
      ],
      "metadata": {
        "colab": {
          "base_uri": "https://localhost:8080/"
        },
        "id": "JfpZqc5-Wrhc",
        "outputId": "ea7dc092-b877-448c-e9ff-4a105993e0ab"
      },
      "execution_count": 12,
      "outputs": [
        {
          "output_type": "execute_result",
          "data": {
            "text/plain": [
              "Index(['Paul', 'John', 'George', 'Ringo'], dtype='object')"
            ]
          },
          "metadata": {},
          "execution_count": 12
        }
      ]
    },
    {
      "cell_type": "markdown",
      "source": [
        "The actual data (or values) for a series does not have to be numeric or homegeneous. We can insert Python objects into a series."
      ],
      "metadata": {
        "id": "4y2n7ZVpYBS_"
      }
    },
    {
      "cell_type": "code",
      "source": [
        "class Foo():\n",
        "  pass\n",
        "\n",
        "ringo = pd.Series(['Richard', 'Starkey', 13, Foo()], name='Ringo')"
      ],
      "metadata": {
        "id": "9lBd_gInYP-p"
      },
      "execution_count": 13,
      "outputs": []
    },
    {
      "cell_type": "code",
      "source": [
        "ringo"
      ],
      "metadata": {
        "colab": {
          "base_uri": "https://localhost:8080/"
        },
        "id": "IQnAJMouYkEj",
        "outputId": "6aacdae1-7f1e-4d35-e42c-787bbbacd9bb"
      },
      "execution_count": 14,
      "outputs": [
        {
          "output_type": "execute_result",
          "data": {
            "text/plain": [
              "0                                    Richard\n",
              "1                                    Starkey\n",
              "2                                         13\n",
              "3    <__main__.Foo object at 0x78c64f3a5c60>\n",
              "Name: Ringo, dtype: object"
            ]
          },
          "metadata": {},
          "execution_count": 14
        }
      ]
    },
    {
      "cell_type": "markdown",
      "source": [
        "The NaN value"
      ],
      "metadata": {
        "id": "dffVdiPMZNAA"
      }
    },
    {
      "cell_type": "code",
      "source": [
        "import numpy as np\n",
        "nan_series = pd.Series([2, np.nan], index=[\"Ono\", \"Clapton\"])"
      ],
      "metadata": {
        "id": "a8m5UEVIZPj_"
      },
      "execution_count": 15,
      "outputs": []
    },
    {
      "cell_type": "code",
      "source": [
        "nan_series"
      ],
      "metadata": {
        "id": "7yeTXF4CaL2v",
        "outputId": "f7851d15-0bc2-4e62-8f71-6236d903183f",
        "colab": {
          "base_uri": "https://localhost:8080/"
        }
      },
      "execution_count": 16,
      "outputs": [
        {
          "output_type": "execute_result",
          "data": {
            "text/plain": [
              "Ono        2.0\n",
              "Clapton    NaN\n",
              "dtype: float64"
            ]
          },
          "metadata": {},
          "execution_count": 16
        }
      ]
    },
    {
      "cell_type": "markdown",
      "source": [
        "When pandas sees numeric data (number 2) as well np.nan, it coerced the 2 to a float value."
      ],
      "metadata": {
        "id": "FoOm-34FdJVH"
      }
    },
    {
      "cell_type": "markdown",
      "source": [
        "Example of how pandas ignores NaN values.\n",
        ".count() method, which counts the number of values in a series, disregards NaN."
      ],
      "metadata": {
        "id": "ngByAV1CdgDk"
      }
    },
    {
      "cell_type": "code",
      "source": [
        "nan_series.count()"
      ],
      "metadata": {
        "colab": {
          "base_uri": "https://localhost:8080/"
        },
        "id": "XSUMJHHCdIaQ",
        "outputId": "25a44856-74a7-4906-da16-370d0e0e908d"
      },
      "execution_count": 17,
      "outputs": [
        {
          "output_type": "execute_result",
          "data": {
            "text/plain": [
              "1"
            ]
          },
          "metadata": {},
          "execution_count": 17
        }
      ]
    },
    {
      "cell_type": "markdown",
      "source": [
        "Inspect the number of entries (including missing values)"
      ],
      "metadata": {
        "id": "_awOBWjfeDxy"
      }
    },
    {
      "cell_type": "code",
      "source": [
        "nan_series.size"
      ],
      "metadata": {
        "colab": {
          "base_uri": "https://localhost:8080/"
        },
        "id": "Wfd6BykMeEFl",
        "outputId": "2927e514-0a7c-4621-992e-82839446ee19"
      },
      "execution_count": 18,
      "outputs": [
        {
          "output_type": "execute_result",
          "data": {
            "text/plain": [
              "2"
            ]
          },
          "metadata": {},
          "execution_count": 18
        }
      ]
    },
    {
      "cell_type": "markdown",
      "source": [
        "Optional integer support for NaN."
      ],
      "metadata": {
        "id": "qaMHpFqbeS3Z"
      }
    },
    {
      "cell_type": "code",
      "source": [
        "nan_series2 = pd.Series([2, np.nan], index=['Ono', 'Clapton'], dtype='Int64')\n",
        "nan_series2"
      ],
      "metadata": {
        "colab": {
          "base_uri": "https://localhost:8080/"
        },
        "id": "5H8UhNbseX5d",
        "outputId": "6331e993-fbc5-42f4-d8bb-c704ec510a07"
      },
      "execution_count": 20,
      "outputs": [
        {
          "output_type": "execute_result",
          "data": {
            "text/plain": [
              "Ono           2\n",
              "Clapton    <NA>\n",
              "dtype: Int64"
            ]
          },
          "metadata": {},
          "execution_count": 20
        }
      ]
    },
    {
      "cell_type": "markdown",
      "source": [
        "Operations on these series still ignore NaN or < NA >"
      ],
      "metadata": {
        "id": "PM4poaC7f8Oe"
      }
    },
    {
      "cell_type": "code",
      "source": [
        "nan_series2.count()"
      ],
      "metadata": {
        "colab": {
          "base_uri": "https://localhost:8080/"
        },
        "id": "EPNYVCyvgBGk",
        "outputId": "3dc00169-f74b-4a84-be6a-9075e1f8f294"
      },
      "execution_count": 21,
      "outputs": [
        {
          "output_type": "execute_result",
          "data": {
            "text/plain": [
              "1"
            ]
          },
          "metadata": {},
          "execution_count": 21
        }
      ]
    },
    {
      "cell_type": "code",
      "source": [
        "nan_series2.size"
      ],
      "metadata": {
        "colab": {
          "base_uri": "https://localhost:8080/"
        },
        "id": "95xS4RrLgKJ6",
        "outputId": "298c8d6b-0cb2-4764-9f01-21bf3749bab9"
      },
      "execution_count": 22,
      "outputs": [
        {
          "output_type": "execute_result",
          "data": {
            "text/plain": [
              "2"
            ]
          },
          "metadata": {},
          "execution_count": 22
        }
      ]
    },
    {
      "cell_type": "markdown",
      "source": [
        "Oher way to change the dtype o a series"
      ],
      "metadata": {
        "id": "QnUzbdgxgYZ4"
      }
    },
    {
      "cell_type": "code",
      "source": [
        "nan_series"
      ],
      "metadata": {
        "colab": {
          "base_uri": "https://localhost:8080/"
        },
        "id": "OMZuioV-gdSX",
        "outputId": "bfd6a652-22b6-4c6e-9fea-c5f62e146ee5"
      },
      "execution_count": 23,
      "outputs": [
        {
          "output_type": "execute_result",
          "data": {
            "text/plain": [
              "Ono        2.0\n",
              "Clapton    NaN\n",
              "dtype: float64"
            ]
          },
          "metadata": {},
          "execution_count": 23
        }
      ]
    },
    {
      "cell_type": "code",
      "source": [
        "print(nan_series.astype('Int64'))\n"
      ],
      "metadata": {
        "colab": {
          "base_uri": "https://localhost:8080/"
        },
        "id": "N6lqafjagfvS",
        "outputId": "c8104e2a-287e-459e-f217-393730e0797c"
      },
      "execution_count": 25,
      "outputs": [
        {
          "output_type": "stream",
          "name": "stdout",
          "text": [
            "Ono           2\n",
            "Clapton    <NA>\n",
            "dtype: Int64\n"
          ]
        }
      ]
    },
    {
      "cell_type": "markdown",
      "source": [
        "Similar to Numpy."
      ],
      "metadata": {
        "id": "iTQa_7aWgt4-"
      }
    },
    {
      "cell_type": "code",
      "source": [
        "songs3"
      ],
      "metadata": {
        "colab": {
          "base_uri": "https://localhost:8080/"
        },
        "id": "WfzDbKM2gvgw",
        "outputId": "7363fc4d-0d52-4012-d027-b00113ea3694"
      },
      "execution_count": 26,
      "outputs": [
        {
          "output_type": "execute_result",
          "data": {
            "text/plain": [
              "Paul      145\n",
              "John      142\n",
              "George     38\n",
              "Ringo      13\n",
              "Name: counts, dtype: int64"
            ]
          },
          "metadata": {},
          "execution_count": 26
        }
      ]
    },
    {
      "cell_type": "code",
      "source": [],
      "metadata": {
        "colab": {
          "base_uri": "https://localhost:8080/"
        },
        "id": "cjq9q7OJhGkz",
        "outputId": "09056ded-bd8c-4a87-dfab-516f5222e1bf"
      },
      "execution_count": 28,
      "outputs": [
        {
          "output_type": "execute_result",
          "data": {
            "text/plain": [
              "145"
            ]
          },
          "metadata": {},
          "execution_count": 28
        }
      ]
    }
  ]
}