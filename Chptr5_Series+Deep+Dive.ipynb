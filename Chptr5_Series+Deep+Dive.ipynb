{
  "nbformat": 4,
  "nbformat_minor": 0,
  "metadata": {
    "colab": {
      "provenance": [],
      "authorship_tag": "ABX9TyNOR5jnXHl+Eghb/l+iQs3v",
      "include_colab_link": true
    },
    "kernelspec": {
      "name": "python3",
      "display_name": "Python 3"
    },
    "language_info": {
      "name": "python"
    }
  },
  "cells": [
    {
      "cell_type": "markdown",
      "metadata": {
        "id": "view-in-github",
        "colab_type": "text"
      },
      "source": [
        "<a href=\"https://colab.research.google.com/github/JonaJS/E_Pandas/blob/main/Chptr5_Series%2BDeep%2BDive.ipynb\" target=\"_parent\"><img src=\"https://colab.research.google.com/assets/colab-badge.svg\" alt=\"Open In Colab\"/></a>"
      ]
    },
    {
      "cell_type": "code",
      "execution_count": 2,
      "metadata": {
        "id": "6CTictWIACMV"
      },
      "outputs": [],
      "source": [
        "URL = 'https://github.com/mattharrison/datasets/raw/master/data/vehicles.csv.zip'"
      ]
    },
    {
      "cell_type": "markdown",
      "source": [
        "While the zip file only contains a csv file, we can read it directly with pandas. Otherwise, if the zip file contains multiple csv files then we'll have to unzip it and indicate which file we want to read."
      ],
      "metadata": {
        "id": "xrknUtnEArk6"
      }
    },
    {
      "cell_type": "code",
      "source": [
        "import pandas as pd\n",
        "df = pd.read_csv(URL)\n",
        "city_mpg = df.city08\n",
        "highway_mpg = df.highway08"
      ],
      "metadata": {
        "colab": {
          "base_uri": "https://localhost:8080/"
        },
        "id": "TRVwBZoZAqWy",
        "outputId": "222f9196-7665-4fca-e225-43ffa8d722d2"
      },
      "execution_count": 5,
      "outputs": [
        {
          "output_type": "stream",
          "name": "stderr",
          "text": [
            "<ipython-input-5-744799a3d6f0>:2: DtypeWarning: Columns (68,70,71,72,73,74,76,79) have mixed types. Specify dtype option on import or set low_memory=False.\n",
            "  df = pd.read_csv(URL)\n"
          ]
        }
      ]
    },
    {
      "cell_type": "code",
      "source": [
        "city_mpg"
      ],
      "metadata": {
        "colab": {
          "base_uri": "https://localhost:8080/"
        },
        "id": "MGrmy8ECBowG",
        "outputId": "4c893984-b62d-482d-de3e-d02ddb7c34d7"
      },
      "execution_count": 6,
      "outputs": [
        {
          "output_type": "execute_result",
          "data": {
            "text/plain": [
              "0        19\n",
              "1         9\n",
              "2        23\n",
              "3        10\n",
              "4        17\n",
              "         ..\n",
              "41139    19\n",
              "41140    20\n",
              "41141    18\n",
              "41142    18\n",
              "41143    16\n",
              "Name: city08, Length: 41144, dtype: int64"
            ]
          },
          "metadata": {},
          "execution_count": 6
        }
      ]
    },
    {
      "cell_type": "code",
      "source": [
        "highway_mpg"
      ],
      "metadata": {
        "colab": {
          "base_uri": "https://localhost:8080/"
        },
        "id": "HrdB_ds8BwxT",
        "outputId": "3f09960d-e87d-4907-b498-39024453d1bf"
      },
      "execution_count": 7,
      "outputs": [
        {
          "output_type": "execute_result",
          "data": {
            "text/plain": [
              "0        25\n",
              "1        14\n",
              "2        33\n",
              "3        12\n",
              "4        23\n",
              "         ..\n",
              "41139    26\n",
              "41140    28\n",
              "41141    24\n",
              "41142    24\n",
              "41143    21\n",
              "Name: highway08, Length: 41144, dtype: int64"
            ]
          },
          "metadata": {},
          "execution_count": 7
        }
      ]
    },
    {
      "cell_type": "markdown",
      "source": [
        "Each series has around 4000 integer entries. Because the type of these series are int64, we know that none of the values are missing (because if it was, the type of the series would be float64 - remember that NaN is a float-type object)."
      ],
      "metadata": {
        "id": "euQg4DTuB4cE"
      }
    },
    {
      "cell_type": "markdown",
      "source": [
        "### Series Attributes\n",
        "\n",
        "The dir function will list the attributes of an object. Let's examine how many attributes there are on a series."
      ],
      "metadata": {
        "id": "sY9-jdPHCd0G"
      }
    },
    {
      "cell_type": "code",
      "source": [
        "len(dir(city_mpg))"
      ],
      "metadata": {
        "colab": {
          "base_uri": "https://localhost:8080/"
        },
        "id": "DwOaVMeADBXm",
        "outputId": "bd7aa129-3e16-4e99-91df-ecad3b883c76"
      },
      "execution_count": 8,
      "outputs": [
        {
          "output_type": "execute_result",
          "data": {
            "text/plain": [
              "420"
            ]
          },
          "metadata": {},
          "execution_count": 8
        }
      ]
    },
    {
      "cell_type": "markdown",
      "source": [
        "There are over 400 attributes on a series. What functionality do all of these attributes provide? Here is a summary.\n",
        "\n",
        "There are many ways to categorize these, and I'm roughly going to do it by what the result of the method is:"
      ],
      "metadata": {
        "id": "6BXS-0nLDA3q"
      }
    },
    {
      "cell_type": "markdown",
      "source": [
        "\n",
        "\n",
        "*   Dunder methods (`.__add__`, `.__iter__`, etc) provide many numeric operations, looping, attribute access, and index access. For the numeric operations, these return `Series`.\n",
        "*   Corresponding operator methods for many of the numeric operations allow us to tweak the behavior (there is an `.add` method in addition to `.__add__`)\n",
        "*   Aggregate methods and properties which reduce or aggregate the values in a series down to a single scalar value. The `.mean`, `.max` and `.sum` methods and `.is_monotonic` property are all examples.\n",
        "*   Conversion methods. Some of these start with `.to_` and export the data to other formats.\n",
        "*   Manipulation methods such as `.sort_values`, `.drop_duplicates`, that return `Series` objects ***with the same index***.\n",
        "*   Indexing and accessor methods and attributes such as .loc and .iloc. These return `Series` or scalars.\n",
        "*   String manipulation methods using `.str`.\n",
        "*   Date manipulation methods using `.dt`.\n",
        "*   Plotting methods using `.plot`.\n",
        "*   Categorical manipulation methods using `.cat`.\n",
        "*   Transformation methods such as `.unstack` and `.reset_index`, `.agg`, `.transform`.\n",
        "*   Attributes such as `.index` and `.dtype`.\n",
        "*   A bunch of private attributes that we'll ignore (around 130 of them)."
      ],
      "metadata": {
        "id": "JR1NAna8DOTF"
      }
    }
  ]
}